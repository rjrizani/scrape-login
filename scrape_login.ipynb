{
  "nbformat": 4,
  "nbformat_minor": 0,
  "metadata": {
    "colab": {
      "provenance": []
    },
    "kernelspec": {
      "name": "python3",
      "display_name": "Python 3"
    },
    "language_info": {
      "name": "python"
    }
  },
  "cells": [
    {
      "cell_type": "code",
      "execution_count": 1,
      "metadata": {
        "colab": {
          "base_uri": "https://localhost:8080/"
        },
        "id": "BoDD-o5JKcIi",
        "outputId": "6740550c-ed1f-463d-c295-adccb8543560"
      },
      "outputs": [
        {
          "output_type": "stream",
          "name": "stdout",
          "text": [
            "“The world as we have created it is a process of our thinking. It cannot be changed without changing our thinking.”\n",
            "“It is our choices, Harry, that show what we truly are, far more than our abilities.”\n",
            "“There are only two ways to live your life. One is as though nothing is a miracle. The other is as though everything is a miracle.”\n",
            "“The person, be it gentleman or lady, who has not pleasure in a good novel, must be intolerably stupid.”\n",
            "“Imperfection is beauty, madness is genius and it's better to be absolutely ridiculous than absolutely boring.”\n",
            "“Try not to become a man of success. Rather become a man of value.”\n",
            "“It is better to be hated for what you are than to be loved for what you are not.”\n",
            "“I have not failed. I've just found 10,000 ways that won't work.”\n",
            "“A woman is like a tea bag; you never know how strong it is until it's in hot water.”\n",
            "“A day without sunshine is like, you know, night.”\n"
          ]
        }
      ],
      "source": [
        "import requests\n",
        "from bs4 import BeautifulSoup\n",
        "\n",
        "# URL login\n",
        "login_url = \"https://quotes.toscrape.com/login\"\n",
        "\n",
        "# Buat session agar cookie tersimpan\n",
        "session = requests.Session()\n",
        "\n",
        "# Ambil CSRF token dari halaman login (jika ada)\n",
        "response = session.get(login_url)\n",
        "soup = BeautifulSoup(response.text, \"html.parser\")\n",
        "csrf_token = soup.find('input', {'name': 'csrf_token'}).get('value')\n",
        "\n",
        "# Data login (website ini menerima login apa saja)\n",
        "payload = {\n",
        "    \"username\": \"admin\",\n",
        "    \"password\": \"admin\",\n",
        "    \"csrf_token\": csrf_token\n",
        "}\n",
        "\n",
        "# Kirim POST request login\n",
        "login_response = session.post(login_url, data=payload)\n",
        "\n",
        "# Cek apakah login berhasil dengan mengakses halaman private\n",
        "private_page = session.get(\"https://quotes.toscrape.com/\")\n",
        "\n",
        "soup_private = BeautifulSoup(private_page.text, \"html.parser\")\n",
        "quotes = soup_private.find_all(\"span\", class_=\"text\")\n",
        "\n",
        "for quote in quotes:\n",
        "    print(quote.text)"
      ]
    }
  ]
}